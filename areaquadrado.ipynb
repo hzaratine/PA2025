{
  "nbformat": 4,
  "nbformat_minor": 0,
  "metadata": {
    "colab": {
      "provenance": [],
      "authorship_tag": "ABX9TyMv4Qe+a0du7vSQnUbGNvlb",
      "include_colab_link": true
    },
    "kernelspec": {
      "name": "python3",
      "display_name": "Python 3"
    },
    "language_info": {
      "name": "python"
    }
  },
  "cells": [
    {
      "cell_type": "markdown",
      "metadata": {
        "id": "view-in-github",
        "colab_type": "text"
      },
      "source": [
        "<a href=\"https://colab.research.google.com/github/hzaratine/PA2025/blob/main/areaquadrado.ipynb\" target=\"_parent\"><img src=\"https://colab.research.google.com/assets/colab-badge.svg\" alt=\"Open In Colab\"/></a>"
      ]
    },
    {
      "cell_type": "code",
      "execution_count": null,
      "metadata": {
        "id": "kxsVclMOVJ3e"
      },
      "outputs": [],
      "source": []
    },
    {
      "cell_type": "code",
      "source": [
        "aula = \"hello world\"\n",
        "print = (aula)"
      ],
      "metadata": {
        "id": "HN0q0pi6VPX_"
      },
      "execution_count": null,
      "outputs": []
    },
    {
      "cell_type": "code",
      "source": [
        "aula\n",
        "\n",
        "\n"
      ],
      "metadata": {
        "colab": {
          "base_uri": "https://localhost:8080/",
          "height": 35
        },
        "id": "vnQRcyfpVXLS",
        "outputId": "1ce26c42-d0ed-4cf7-ce50-3677498e557e"
      },
      "execution_count": null,
      "outputs": [
        {
          "output_type": "execute_result",
          "data": {
            "text/plain": [
              "'hello world'"
            ],
            "application/vnd.google.colaboratory.intrinsic+json": {
              "type": "string"
            }
          },
          "metadata": {},
          "execution_count": 24
        }
      ]
    },
    {
      "cell_type": "code",
      "source": [
        "#Entrada\n",
        "lado = 4\n"
      ],
      "metadata": {
        "id": "rD72e7eIWZQg"
      },
      "execution_count": null,
      "outputs": []
    },
    {
      "cell_type": "code",
      "source": [
        "#processamento\n",
        "area = lado * lado"
      ],
      "metadata": {
        "id": "_MbbkxFWYBnT"
      },
      "execution_count": null,
      "outputs": []
    },
    {
      "cell_type": "code",
      "source": [
        "#saída\n",
        "print(\"A área do quadrado e\",area)"
      ],
      "metadata": {
        "id": "lnQFlA3EYvpz",
        "colab": {
          "base_uri": "https://localhost:8080/"
        },
        "outputId": "a5ee1cb4-2ec3-4d24-a8ca-d8ac187b8f66"
      },
      "execution_count": null,
      "outputs": [
        {
          "output_type": "stream",
          "name": "stdout",
          "text": [
            "A área do quadrado e 16\n"
          ]
        }
      ]
    },
    {
      "cell_type": "code",
      "source": [],
      "metadata": {
        "id": "q7A-82d7K7Tp"
      },
      "execution_count": null,
      "outputs": []
    },
    {
      "cell_type": "code",
      "source": [],
      "metadata": {
        "id": "MokuuOM4Y06O"
      },
      "execution_count": null,
      "outputs": []
    }
  ]
}