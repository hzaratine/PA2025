{
 "cells": [
  {
   "cell_type": "markdown",
   "metadata": {
    "id": "oncsAo0QKXM4"
   },
   "source": [
    "**Henrique Zaratine Pereira 1-F**"
   ]
  },
  {
   "cell_type": "markdown",
   "metadata": {
    "id": "2Wtw01VyHzBQ"
   },
   "source": [
    "1)Crie um programa em python que imprima números pares\n",
    "\n",
    "a) Pedir o usuário para digitar uma lista com mínimo 10 números\n",
    "\n",
    "b) Criar uma nova somente com numeros pares\n",
    "\n",
    "c) Imprimir números pares"
   ]
  },
  {
   "cell_type": "code",
   "execution_count": 20,
   "metadata": {
    "id": "iBpbyKp8KNKX"
   },
   "outputs": [
    {
     "name": "stdout",
     "output_type": "stream",
     "text": [
      "Digite 10 numeros\n"
     ]
    },
    {
     "name": "stdin",
     "output_type": "stream",
     "text": [
      "Digite o Numero: 1\n",
      "Digite o Numero: 2\n",
      "Digite o Numero: 3\n",
      "Digite o Numero: 4\n",
      "Digite o Numero: 5\n",
      "Digite o Numero: 6\n",
      "Digite o Numero: 7\n",
      "Digite o Numero: 8\n",
      "Digite o Numero: 9\n",
      "Digite o Numero: 10\n"
     ]
    },
    {
     "name": "stdout",
     "output_type": "stream",
     "text": [
      "numero pares [2, 4, 6, 8, 10]\n"
     ]
    }
   ],
   "source": [
    "print(\"Digite 10 numeros\")\n",
    "\n",
    "pares = []\n",
    "\n",
    "for i in range(10):\n",
    "    numero = int(input(\"Digite o Numero:\"))\n",
    "    if numero% 2==0:\n",
    "        pares.append(numero)\n",
    "\n",
    "print(\"numero pares\",pares)"
   ]
  },
  {
   "cell_type": "markdown",
   "metadata": {
    "id": "bBYPSr8JHpUA"
   },
   "source": [
    "2)Crie um programa que conte quantas vezes cada palavra aparece em uma frase.\n",
    "\n",
    "Pedir ao usuário para digitar uma frase. Imprimir a palavra e quantas vezes ela aparece"
   ]
  },
  {
   "cell_type": "code",
   "execution_count": 32,
   "metadata": {
    "id": "dQLlv-lPKPT4"
   },
   "outputs": [
    {
     "name": "stdin",
     "output_type": "stream",
     "text": [
      "Digite uma frase: o rato roeu a roupa do rei de romas\n"
     ]
    },
    {
     "name": "stdout",
     "output_type": "stream",
     "text": [
      "o = 1\n",
      "rato = 1\n",
      "roeu = 1\n",
      "a = 1\n",
      "roupa = 1\n",
      "do = 1\n",
      "rei = 1\n",
      "de = 1\n",
      "romas = 1\n"
     ]
    }
   ],
   "source": [
    "frase = input(\"Digite uma frase:\")\n",
    "palavras = frase.split()\n",
    "contagem = {}\n",
    "\n",
    "for p in palavras:\n",
    "    if p in contagem:\n",
    "     contagem[p] +=1\n",
    "    else:\n",
    "     contagem[p] = 1\n",
    "\n",
    "for p, q in contagem.items():\n",
    "    print(p,\"=\",q)"
   ]
  },
  {
   "cell_type": "markdown",
   "metadata": {
    "id": "bbWz0aL2HjP3"
   },
   "source": [
    "3)Crie um programa em Python para avaliar um desfile de candidatas. O programa deve:\n",
    "\n",
    "a) Perguntar quantas candidatas vão participar.\n",
    "\n",
    "b) Perguntar o nome de cada candidata.\n",
    "\n",
    "c) Para cada candidata, receber 3 notas (uma de cada jurado).\n",
    "\n",
    "d) Somar as notas e guardar o total em um dicionário, onde a chave é o nome da candidata e o valor é a soma das notas.\n",
    "\n",
    "Mostrar ao final:\n",
    "\n",
    "a) A pontuação total de cada candidata.\n",
    "\n",
    "b) O nome da vencedora (a que tiver a maior pontuação)."
   ]
  },
  {
   "cell_type": "code",
   "execution_count": 47,
   "metadata": {
    "id": "wrhGujbvHebJ"
   },
   "outputs": [
    {
     "name": "stdin",
     "output_type": "stream",
     "text": [
      "Quantas candidatas vão participar?  3\n",
      "Nome:  joana\n",
      "Nota 1:  5\n",
      "Nota 2:  6\n",
      "Nota 3:  7\n",
      "Nome:  carla\n",
      "Nota 1:  3\n",
      "Nota 2:  5\n",
      "Nota 3:  7\n",
      "Nome:  luisa\n",
      "Nota 1:  3\n",
      "Nota 2:  6\n",
      "Nota 3:  0\n"
     ]
    },
    {
     "name": "stdout",
     "output_type": "stream",
     "text": [
      "joana: 18.00\n",
      "carla: 15.00\n",
      "luisa: 9.00\n",
      "A vencedora é joana com 18.00.\n"
     ]
    }
   ],
   "source": [
    "num_candidatas = int(input(\"Quantas candidatas vão participar? \"))\n",
    "pontuacoes = {}\n",
    "\n",
    "for i in range(num_candidatas):\n",
    "    nome = input(\"Nome: \")\n",
    "    nota1 = float(input(\"Nota 1: \"))\n",
    "    nota2 = float(input(\"Nota 2: \"))\n",
    "    nota3 = float(input(\"Nota 3: \"))\n",
    "    pontuacoes[nome] = nota1 + nota2 + nota3\n",
    "\n",
    "for nome, total in pontuacoes.items():\n",
    "    print(f\"{nome}: {total:.2f}\")\n",
    "\n",
    "vencedora = max(pontuacoes, key=pontuacoes.get)\n",
    "print(f\"A vencedora é {vencedora} com {pontuacoes[vencedora]:.2f}.\")\n"
   ]
  },
  {
   "cell_type": "code",
   "execution_count": null,
   "metadata": {},
   "outputs": [],
   "source": []
  }
 ],
 "metadata": {
  "colab": {
   "provenance": []
  },
  "kernelspec": {
   "display_name": "Python 3 (ipykernel)",
   "language": "python",
   "name": "python3"
  },
  "language_info": {
   "codemirror_mode": {
    "name": "ipython",
    "version": 3
   },
   "file_extension": ".py",
   "mimetype": "text/x-python",
   "name": "python",
   "nbconvert_exporter": "python",
   "pygments_lexer": "ipython3",
   "version": "3.11.4"
  }
 },
 "nbformat": 4,
 "nbformat_minor": 4
}
