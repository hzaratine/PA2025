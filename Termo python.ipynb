{
  "nbformat": 4,
  "nbformat_minor": 0,
  "metadata": {
    "colab": {
      "provenance": []
    },
    "kernelspec": {
      "name": "python3",
      "display_name": "Python 3"
    },
    "language_info": {
      "name": "python"
    }
  },
  "cells": [
    {
      "cell_type": "code",
      "execution_count": 5,
      "metadata": {
        "colab": {
          "base_uri": "https://localhost:8080/"
        },
        "id": "tRshLkvaKa5-",
        "outputId": "733c0d36-23b5-4987-dfdb-5329358cbbb2"
      },
      "outputs": [
        {
          "output_type": "stream",
          "name": "stdout",
          "text": [
            "Tentativa 1/6: Digite uma palavra com 5 letras: furia\n",
            "Resultado: ['f (correta)', 'u (errada, mas na palavra)', 'r (errada, mas na palavra)', 'i (errada)', 'a (correta)']\n",
            "Tente novamente!\n",
            "Tentativa 2/6: Digite uma palavra com 5 letras: fruta\n",
            "Você acertou!\n"
          ]
        }
      ],
      "source": [
        "import random\n",
        "\n",
        "palavras = ['fruta',]\n",
        "palavra = random.choice(palavras)\n",
        "\n",
        "for i in range(6):\n",
        "    termo = input(f'Tentativa {i+1}/6: Digite uma palavra com 5 letras: ')\n",
        "\n",
        "    if len(termo) != 5:\n",
        "        print(\"A palavra deve ter 5 letras! Tente novamente.\")\n",
        "        continue\n",
        "\n",
        "    if termo == palavra:\n",
        "        print(\"Você acertou!\")\n",
        "        break\n",
        "    else:\n",
        "        resultado = []\n",
        "        palavra_usada = [False] * len(palavra)\n",
        "\n",
        "        for j in range(len(termo)):\n",
        "            if termo[j] == palavra[j]:\n",
        "                resultado.append(f'{termo[j]} (correta)')\n",
        "                palavra_usada[j] = True\n",
        "            else:\n",
        "                resultado.append(None)\n",
        "\n",
        "        for j in range(len(termo)):\n",
        "            if resultado[j] is None:\n",
        "                for k in range(len(palavra)):\n",
        "                    if termo[j] == palavra[k] and not palavra_usada[k]:\n",
        "                        resultado[j] = f'{termo[j]} (errada, mas na palavra)'\n",
        "                        palavra_usada[k] = True\n",
        "                        break\n",
        "                if resultado[j] is None:\n",
        "                    resultado[j] = f'{termo[j]} (errada)'\n",
        "\n",
        "        print(\"Resultado:\", resultado)\n",
        "        print(\"Tente novamente!\")"
      ]
    }
  ]
}